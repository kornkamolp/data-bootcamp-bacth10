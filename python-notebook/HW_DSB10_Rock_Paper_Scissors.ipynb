{
  "nbformat": 4,
  "nbformat_minor": 0,
  "metadata": {
    "colab": {
      "provenance": []
    },
    "kernelspec": {
      "name": "python3",
      "display_name": "Python 3"
    },
    "language_info": {
      "name": "python"
    }
  },
  "cells": [
    {
      "cell_type": "markdown",
      "source": [
        "## HOMEWORK\n",
        "- create the Rock-Paper-Scissors game"
      ],
      "metadata": {
        "id": "0lRYkLLImPqL"
      }
    },
    {
      "cell_type": "code",
      "execution_count": null,
      "metadata": {
        "id": "Z5kNxVU54olK"
      },
      "outputs": [],
      "source": [
        "import random\n",
        "\n",
        "def play_game():\n",
        "    user_score = 0\n",
        "    bot_score = 0\n",
        "\n",
        "    username = input(\"Tell me about your name? \")\n",
        "    print(f\"Hi {username}! Let's play Rock-Paper-Scissors\")\n",
        "\n",
        "    while True:\n",
        "        try:\n",
        "            rounds = int(input(\"How many times do you want to play? \"))\n",
        "            if rounds < 1:\n",
        "                print(\"Please enter a number greater than 0!\")\n",
        "            else:\n",
        "                print(f\"You have {rounds} times to win!\")\n",
        "                break\n",
        "        except ValueError:\n",
        "            print(\"Invalid input. Please enter a number!\")\n",
        "\n",
        "    for i in range(1, rounds + 1):\n",
        "        print(f\"\\nRound: {i}\")\n",
        "\n",
        "        while True:\n",
        "            user_choice = input(\"Choose rock, paper, or scissors: \").lower()\n",
        "            if user_choice in [\"rock\", \"paper\", \"scissors\"]:\n",
        "                break\n",
        "            else:\n",
        "                print(\"Invalid choice. Please enter rock, paper, or scissors\")\n",
        "\n",
        "        bot_choice = random.choice([\"rock\", \"paper\", \"scissors\"])\n",
        "        print(f\"Bot chose: {bot_choice}\")\n",
        "\n",
        "        if user_choice == bot_choice:\n",
        "            print(\"It's a tie!\")\n",
        "        elif (user_choice == \"rock\" and bot_choice == \"scissors\") or \\\n",
        "             (user_choice == \"paper\" and bot_choice == \"rock\") or \\\n",
        "             (user_choice == \"scissors\" and bot_choice == \"paper\"):\n",
        "            print(\"You win this round!\")\n",
        "            user_score += 1\n",
        "        else:\n",
        "            print(\"Bot wins this round!\")\n",
        "            bot_score += 1\n",
        "\n",
        "    print(\"\\nGame Over!\")\n",
        "    print(f\"Final Score: {username}: {user_score}, Bot: {bot_score}\")\n",
        "\n",
        "    if user_score > bot_score:\n",
        "        print(f\"Congratulations, {username}! You are the overall winner!\")\n",
        "    elif user_score < bot_score:\n",
        "        print(\"The bot wins overall. Better luck next time!\")\n",
        "    else:\n",
        "        print(\"It's an overall tie!\")"
      ]
    },
    {
      "cell_type": "code",
      "source": [
        "play_game()"
      ],
      "metadata": {
        "id": "MHcKzAVjuiFk"
      },
      "execution_count": null,
      "outputs": []
    }
  ]
}