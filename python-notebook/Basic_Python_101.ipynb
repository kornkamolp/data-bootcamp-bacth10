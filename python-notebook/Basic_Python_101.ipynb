{
  "nbformat": 4,
  "nbformat_minor": 0,
  "metadata": {
    "colab": {
      "provenance": []
    },
    "kernelspec": {
      "name": "python3",
      "display_name": "Python 3"
    },
    "language_info": {
      "name": "python"
    }
  },
  "cells": [
    {
      "cell_type": "markdown",
      "source": [
        "## Hello World\n",
        "\n",
        "Basic `Python` for Data Analyst(Beginner)\n",
        "\n",
        "```python\n",
        "##code\n",
        "print(\"hello world\")\n",
        "def hello():\n",
        "  print(\"hello\")\n",
        "```\n",
        "\n",
        "- variable\n",
        "- data type\n",
        "- data structure\n",
        "- control flow\n",
        "- fuction"
      ],
      "metadata": {
        "id": "yelnqZz_R2bn"
      }
    },
    {
      "cell_type": "code",
      "source": [
        "## basic calculation\n",
        "print(1 + 1)\n",
        "print (3 * 2)"
      ],
      "metadata": {
        "colab": {
          "base_uri": "https://localhost:8080/"
        },
        "id": "3l7rONRSR7_C",
        "outputId": "1a745081-8a59-4bd6-ce0d-a64e6a63b8b2"
      },
      "execution_count": null,
      "outputs": [
        {
          "output_type": "stream",
          "name": "stdout",
          "text": [
            "2\n",
            "6\n"
          ]
        }
      ]
    },
    {
      "cell_type": "code",
      "source": [
        "(2 + 3) * 2"
      ],
      "metadata": {
        "colab": {
          "base_uri": "https://localhost:8080/"
        },
        "id": "CGJYJqFwle16",
        "outputId": "3eca77a5-bc94-4b82-b731-a9741c02e326"
      },
      "execution_count": null,
      "outputs": [
        {
          "output_type": "execute_result",
          "data": {
            "text/plain": [
              "10"
            ]
          },
          "metadata": {},
          "execution_count": 7
        }
      ]
    },
    {
      "cell_type": "code",
      "source": [
        "## flooe division\n",
        "9.25//2"
      ],
      "metadata": {
        "colab": {
          "base_uri": "https://localhost:8080/"
        },
        "id": "U4Xqvx6LmE0n",
        "outputId": "6bc67d55-a918-43f9-a4a3-c1a1dbb63083"
      },
      "execution_count": null,
      "outputs": [
        {
          "output_type": "execute_result",
          "data": {
            "text/plain": [
              "4.0"
            ]
          },
          "metadata": {},
          "execution_count": 10
        }
      ]
    },
    {
      "cell_type": "code",
      "source": [
        "5 % 5"
      ],
      "metadata": {
        "colab": {
          "base_uri": "https://localhost:8080/"
        },
        "id": "uQvgk21gmNGO",
        "outputId": "ed1404c1-2b0e-4b0f-fcc3-624dea1fc306"
      },
      "execution_count": null,
      "outputs": [
        {
          "output_type": "execute_result",
          "data": {
            "text/plain": [
              "0"
            ]
          },
          "metadata": {},
          "execution_count": 14
        }
      ]
    },
    {
      "cell_type": "code",
      "source": [
        "## prime number\n",
        "pow(2,5)"
      ],
      "metadata": {
        "colab": {
          "base_uri": "https://localhost:8080/"
        },
        "id": "X4pTW2I1mRD6",
        "outputId": "2b5eee81-5757-4f41-cee5-49bccd2da235"
      },
      "execution_count": null,
      "outputs": [
        {
          "output_type": "execute_result",
          "data": {
            "text/plain": [
              "32"
            ]
          },
          "metadata": {},
          "execution_count": 19
        }
      ]
    },
    {
      "cell_type": "code",
      "source": [
        "2 ** 5"
      ],
      "metadata": {
        "colab": {
          "base_uri": "https://localhost:8080/"
        },
        "id": "tka1qyu-moi0",
        "outputId": "dc92504e-b846-475e-da11-9b2f86fb0ae1"
      },
      "execution_count": null,
      "outputs": [
        {
          "output_type": "execute_result",
          "data": {
            "text/plain": [
              "32"
            ]
          },
          "metadata": {},
          "execution_count": 20
        }
      ]
    },
    {
      "cell_type": "code",
      "source": [
        "## variable\n",
        "x = 100\n",
        "y = 200\n",
        "print(x+y)"
      ],
      "metadata": {
        "colab": {
          "base_uri": "https://localhost:8080/"
        },
        "id": "KU8Z2Xb2mrMf",
        "outputId": "ebf7ccb4-af11-4a89-fa64-5030e309a78a"
      },
      "execution_count": null,
      "outputs": [
        {
          "output_type": "stream",
          "name": "stdout",
          "text": [
            "300\n"
          ]
        }
      ]
    },
    {
      "cell_type": "code",
      "source": [
        "my_university_name = \"Kasetsart\""
      ],
      "metadata": {
        "id": "pRhQJpTRm7f5"
      },
      "execution_count": null,
      "outputs": []
    },
    {
      "cell_type": "code",
      "source": [
        "print(my_university_name)"
      ],
      "metadata": {
        "colab": {
          "base_uri": "https://localhost:8080/"
        },
        "id": "OtMQGBEjnAqJ",
        "outputId": "612ace10-7a4a-45f7-ac19-187a336196dc"
      },
      "execution_count": null,
      "outputs": [
        {
          "output_type": "stream",
          "name": "stdout",
          "text": [
            "Kasetsart\n"
          ]
        }
      ]
    },
    {
      "cell_type": "code",
      "source": [
        "del my_university_name"
      ],
      "metadata": {
        "id": "Da65Lhctpivx"
      },
      "execution_count": null,
      "outputs": []
    },
    {
      "cell_type": "code",
      "source": [
        "## replace value\n",
        "x = 100\n",
        "x = 200\n",
        "print(x)"
      ],
      "metadata": {
        "colab": {
          "base_uri": "https://localhost:8080/"
        },
        "id": "peGumHJ4ppET",
        "outputId": "de373786-ac29-4cb0-d4b7-fbc98c69cf08"
      },
      "execution_count": null,
      "outputs": [
        {
          "output_type": "stream",
          "name": "stdout",
          "text": [
            "200\n"
          ]
        }
      ]
    },
    {
      "cell_type": "code",
      "source": [
        "x, y, z = 1, \"PP\", 3\n",
        "print(x,y,z)"
      ],
      "metadata": {
        "colab": {
          "base_uri": "https://localhost:8080/"
        },
        "id": "xcGkO8eBqEtU",
        "outputId": "45ea066e-3cbd-43b1-9b90-4ef4ba8799ce"
      },
      "execution_count": null,
      "outputs": [
        {
          "output_type": "stream",
          "name": "stdout",
          "text": [
            "1 PP 3\n"
          ]
        }
      ]
    },
    {
      "cell_type": "code",
      "source": [
        "# R for small data project, prototyping\n",
        "# Python for larger data, software, data science, ai, app\n",
        "\n",
        "# R is statistical language vs. Python is a general language"
      ],
      "metadata": {
        "id": "nY5r7TEIqlai"
      },
      "execution_count": null,
      "outputs": []
    },
    {
      "cell_type": "code",
      "source": [
        "# R is specialist (stats)\n",
        "# Python is genaralist (app, data, spftware, ai)"
      ],
      "metadata": {
        "id": "BvDokpOU0sQk"
      },
      "execution_count": null,
      "outputs": []
    },
    {
      "cell_type": "code",
      "source": [
        "# variable\n",
        "my_name = \"PP\"\n",
        "age = 24\n",
        "frineds = [\"dome\", \"ploy\", \"jenny\"] # list\n",
        "fav_food = (\"hotdog\", \"noodle\", \"cake\") # tuple"
      ],
      "metadata": {
        "id": "fL0vj6Hm2Evo"
      },
      "execution_count": null,
      "outputs": []
    },
    {
      "cell_type": "code",
      "source": [
        "frineds[0] = \"sitipat\""
      ],
      "metadata": {
        "id": "KUWoRm2h2o-i"
      },
      "execution_count": null,
      "outputs": []
    },
    {
      "cell_type": "code",
      "source": [
        "frineds"
      ],
      "metadata": {
        "colab": {
          "base_uri": "https://localhost:8080/"
        },
        "id": "jAdNYtY426w4",
        "outputId": "a5986108-e710-451d-d0c0-d4672f9714f6"
      },
      "execution_count": null,
      "outputs": [
        {
          "output_type": "execute_result",
          "data": {
            "text/plain": [
              "['sitipat', 'ploy', 'jenny']"
            ]
          },
          "metadata": {},
          "execution_count": 25
        }
      ]
    },
    {
      "cell_type": "code",
      "source": [
        "fav_food[0]"
      ],
      "metadata": {
        "colab": {
          "base_uri": "https://localhost:8080/",
          "height": 35
        },
        "id": "4WOJj4m13ACR",
        "outputId": "63dc879a-b9b3-4011-8c7c-417627458604"
      },
      "execution_count": null,
      "outputs": [
        {
          "output_type": "execute_result",
          "data": {
            "text/plain": [
              "'hotdog'"
            ],
            "application/vnd.google.colaboratory.intrinsic+json": {
              "type": "string"
            }
          },
          "metadata": {},
          "execution_count": 12
        }
      ]
    },
    {
      "cell_type": "code",
      "source": [
        "## data types\n",
        "## int, float, str, bool\n",
        "age = 25\n",
        "type(age) #int"
      ],
      "metadata": {
        "colab": {
          "base_uri": "https://localhost:8080/"
        },
        "id": "J8LLkj2Q3D3a",
        "outputId": "ae42de37-38a4-4cc9-8cca-44006010e0a4"
      },
      "execution_count": null,
      "outputs": [
        {
          "output_type": "execute_result",
          "data": {
            "text/plain": [
              "int"
            ]
          },
          "metadata": {},
          "execution_count": 14
        }
      ]
    },
    {
      "cell_type": "code",
      "source": [
        "gpa = 2.99\n",
        "type(gpa) #float"
      ],
      "metadata": {
        "colab": {
          "base_uri": "https://localhost:8080/"
        },
        "id": "WBkexTS66XJc",
        "outputId": "fdabe047-8f9f-4507-9c46-cb9a47792675"
      },
      "execution_count": null,
      "outputs": [
        {
          "output_type": "execute_result",
          "data": {
            "text/plain": [
              "float"
            ]
          },
          "metadata": {},
          "execution_count": 17
        }
      ]
    },
    {
      "cell_type": "code",
      "source": [
        "name = \"PP\"\n",
        "type(name) #str"
      ],
      "metadata": {
        "colab": {
          "base_uri": "https://localhost:8080/"
        },
        "id": "dF0_n_4B7FbZ",
        "outputId": "376ce7b2-7cf0-46b4-8c6e-34dcd526a4a9"
      },
      "execution_count": null,
      "outputs": [
        {
          "output_type": "execute_result",
          "data": {
            "text/plain": [
              "str"
            ]
          },
          "metadata": {},
          "execution_count": 20
        }
      ]
    },
    {
      "cell_type": "code",
      "source": [
        "result = age < 40\n",
        "print(result, type(result))"
      ],
      "metadata": {
        "colab": {
          "base_uri": "https://localhost:8080/"
        },
        "id": "A2FEfzpA7JBf",
        "outputId": "6b54bd4f-21e5-49e1-a403-5b5ec41e3ff3"
      },
      "execution_count": null,
      "outputs": [
        {
          "output_type": "stream",
          "name": "stdout",
          "text": [
            "True <class 'bool'>\n"
          ]
        }
      ]
    },
    {
      "cell_type": "code",
      "source": [
        "my_bool = (True, False, True)\n",
        "print(my_bool, type(my_bool))"
      ],
      "metadata": {
        "colab": {
          "base_uri": "https://localhost:8080/"
        },
        "id": "hmRBZElp7UzY",
        "outputId": "42af0ebe-c987-4e49-fd66-b46e6006a970"
      },
      "execution_count": null,
      "outputs": [
        {
          "output_type": "stream",
          "name": "stdout",
          "text": [
            "(True, False, True) <class 'tuple'>\n"
          ]
        }
      ]
    },
    {
      "cell_type": "code",
      "source": [
        "## convert type\n",
        "str(36)"
      ],
      "metadata": {
        "colab": {
          "base_uri": "https://localhost:8080/",
          "height": 35
        },
        "id": "WkysMgyR99qU",
        "outputId": "012670e8-8b04-472d-a212-3092b36af8cf"
      },
      "execution_count": null,
      "outputs": [
        {
          "output_type": "execute_result",
          "data": {
            "text/plain": [
              "'36'"
            ],
            "application/vnd.google.colaboratory.intrinsic+json": {
              "type": "string"
            }
          },
          "metadata": {},
          "execution_count": 2
        }
      ]
    },
    {
      "cell_type": "code",
      "source": [
        "int(\"36\")"
      ],
      "metadata": {
        "colab": {
          "base_uri": "https://localhost:8080/"
        },
        "id": "VDRWs7Z-DA9k",
        "outputId": "82a2a1a0-4277-4fd6-d5ce-0524452278f8"
      },
      "execution_count": null,
      "outputs": [
        {
          "output_type": "execute_result",
          "data": {
            "text/plain": [
              "36"
            ]
          },
          "metadata": {},
          "execution_count": 6
        }
      ]
    },
    {
      "cell_type": "code",
      "source": [
        "float(36)"
      ],
      "metadata": {
        "colab": {
          "base_uri": "https://localhost:8080/"
        },
        "id": "xcbkLuXkDCXi",
        "outputId": "9edcf3f5-e04e-4fa7-a522-a963d7b7f3a7"
      },
      "execution_count": null,
      "outputs": [
        {
          "output_type": "execute_result",
          "data": {
            "text/plain": [
              "36.0"
            ]
          },
          "metadata": {},
          "execution_count": 10
        }
      ]
    },
    {
      "cell_type": "code",
      "source": [
        "print(bool(0),bool(1))\n",
        "## True = 1, False = 0"
      ],
      "metadata": {
        "colab": {
          "base_uri": "https://localhost:8080/"
        },
        "id": "PY3ERwntDLo8",
        "outputId": "f2de5b15-01e5-48dd-9c3e-472725db0bd0"
      },
      "execution_count": null,
      "outputs": [
        {
          "output_type": "stream",
          "name": "stdout",
          "text": [
            "False True\n"
          ]
        }
      ]
    },
    {
      "cell_type": "markdown",
      "source": [
        "## Working with String"
      ],
      "metadata": {
        "id": "k8jCt5PkDm0u"
      }
    },
    {
      "cell_type": "code",
      "source": [
        "## fstring => format string\n",
        "name = \"PP\"\n",
        "gpa = 2.48\n",
        "\n",
        "\"PP graduates from kasetsart university with gpa 2.48\" # hardcode\n",
        "f\"{name} graduates from KU with gpa {gpa}\""
      ],
      "metadata": {
        "colab": {
          "base_uri": "https://localhost:8080/",
          "height": 35
        },
        "id": "Zdaal7SdDtmV",
        "outputId": "816cd276-c984-4e5c-822a-d507ebb5d63c"
      },
      "execution_count": null,
      "outputs": [
        {
          "output_type": "execute_result",
          "data": {
            "text/plain": [
              "'PP graduates from KU with gpa 2.48'"
            ],
            "application/vnd.google.colaboratory.intrinsic+json": {
              "type": "string"
            }
          },
          "metadata": {},
          "execution_count": 22
        }
      ]
    },
    {
      "cell_type": "code",
      "source": [
        "## long string\n",
        "long_str = \"\"\" I love McDonald's\n",
        "\n",
        "\n",
        "I love Python\n",
        "Planning to have it for Lunch\n",
        "Very Cool!\n",
        "\"\"\""
      ],
      "metadata": {
        "id": "yhKjtQvwFW3V"
      },
      "execution_count": null,
      "outputs": []
    },
    {
      "cell_type": "code",
      "source": [
        "long_str"
      ],
      "metadata": {
        "colab": {
          "base_uri": "https://localhost:8080/",
          "height": 35
        },
        "id": "Q4gtITLbF0Uy",
        "outputId": "45159143-5ee9-4714-f8f4-e12e6c8696dc"
      },
      "execution_count": null,
      "outputs": [
        {
          "output_type": "execute_result",
          "data": {
            "text/plain": [
              "\" I love McDonald's\\n\\n\\nI love Python\\nPlanning to have it for Lunch\\nVery Cool!\\n\""
            ],
            "application/vnd.google.colaboratory.intrinsic+json": {
              "type": "string"
            }
          },
          "metadata": {},
          "execution_count": 35
        }
      ]
    },
    {
      "cell_type": "code",
      "source": [
        "## function vs. method\n",
        "text = \"a duck walks into a bar\"\n",
        "len(text)\n",
        "print(text.upper())\n",
        "print(text)"
      ],
      "metadata": {
        "colab": {
          "base_uri": "https://localhost:8080/"
        },
        "id": "tAvQ59HIGInc",
        "outputId": "20e6e091-b694-4e94-aa77-789c59f230ef"
      },
      "execution_count": null,
      "outputs": [
        {
          "output_type": "stream",
          "name": "stdout",
          "text": [
            "A DUCK WALKS INTO A BAR\n",
            "a duck walks into a bar\n"
          ]
        }
      ]
    },
    {
      "cell_type": "code",
      "source": [
        "## method is a function created specifically to an object\n",
        "## string method\n",
        "text.upper()"
      ],
      "metadata": {
        "colab": {
          "base_uri": "https://localhost:8080/",
          "height": 35
        },
        "id": "mpzLOLdzGukD",
        "outputId": "3944ba4f-3032-4f6e-d907-7f5006753741"
      },
      "execution_count": null,
      "outputs": [
        {
          "output_type": "execute_result",
          "data": {
            "text/plain": [
              "'A DUCK WALKS INTO A BAR'"
            ],
            "application/vnd.google.colaboratory.intrinsic+json": {
              "type": "string"
            }
          },
          "metadata": {},
          "execution_count": 29
        }
      ]
    },
    {
      "cell_type": "code",
      "source": [
        "text.replace(\"duck\", \"lion\")"
      ],
      "metadata": {
        "colab": {
          "base_uri": "https://localhost:8080/",
          "height": 35
        },
        "id": "z7bKdT0-G2GD",
        "outputId": "d836cd4d-2872-476d-c922-6f1290bc1e35"
      },
      "execution_count": null,
      "outputs": [
        {
          "output_type": "execute_result",
          "data": {
            "text/plain": [
              "'a lion walks into a bar'"
            ],
            "application/vnd.google.colaboratory.intrinsic+json": {
              "type": "string"
            }
          },
          "metadata": {},
          "execution_count": 30
        }
      ]
    },
    {
      "cell_type": "code",
      "source": [
        "text.count(\"a\")"
      ],
      "metadata": {
        "colab": {
          "base_uri": "https://localhost:8080/"
        },
        "id": "fzEGox69HhDv",
        "outputId": "88ddb157-1d89-4370-cb89-7fd1cfa14e3f"
      },
      "execution_count": null,
      "outputs": [
        {
          "output_type": "execute_result",
          "data": {
            "text/plain": [
              "4"
            ]
          },
          "metadata": {},
          "execution_count": 31
        }
      ]
    },
    {
      "cell_type": "code",
      "source": [
        "text.split(\" \")"
      ],
      "metadata": {
        "colab": {
          "base_uri": "https://localhost:8080/"
        },
        "id": "5R4qJN_EHlMT",
        "outputId": "5654fed1-23d3-462d-c8be-2d5044ea3ea0"
      },
      "execution_count": null,
      "outputs": [
        {
          "output_type": "execute_result",
          "data": {
            "text/plain": [
              "['a', 'duck', 'walks', 'into', 'a', 'bar']"
            ]
          },
          "metadata": {},
          "execution_count": 32
        }
      ]
    },
    {
      "cell_type": "code",
      "source": [
        "# replace new value\n",
        "text = text.replace(\"duck\", \"cat\")\n",
        "text.split(\" \")"
      ],
      "metadata": {
        "colab": {
          "base_uri": "https://localhost:8080/"
        },
        "id": "rIqBQv8BHpHf",
        "outputId": "2b340e62-74f3-4630-952b-9d2d8548c13f"
      },
      "execution_count": null,
      "outputs": [
        {
          "output_type": "execute_result",
          "data": {
            "text/plain": [
              "['a', 'cat', 'walks', 'into', 'a', 'bar']"
            ]
          },
          "metadata": {},
          "execution_count": 59
        }
      ]
    },
    {
      "cell_type": "code",
      "source": [
        "result = text.split(\" \")\n",
        "result"
      ],
      "metadata": {
        "colab": {
          "base_uri": "https://localhost:8080/"
        },
        "id": "z-GurtU0LKhi",
        "outputId": "e9b201eb-87e9-40e8-e5bf-d3e4867fc9d2"
      },
      "execution_count": null,
      "outputs": [
        {
          "output_type": "execute_result",
          "data": {
            "text/plain": [
              "['a', 'cat', 'walks', 'into', 'a', 'bar']"
            ]
          },
          "metadata": {},
          "execution_count": 62
        }
      ]
    },
    {
      "cell_type": "code",
      "source": [
        "\" \".join(result)"
      ],
      "metadata": {
        "colab": {
          "base_uri": "https://localhost:8080/",
          "height": 35
        },
        "id": "D_JX42DDLaEv",
        "outputId": "0437d4b3-0f64-4a0a-e57f-25aba51199dc"
      },
      "execution_count": null,
      "outputs": [
        {
          "output_type": "execute_result",
          "data": {
            "text/plain": [
              "'a cat walks into a bar'"
            ],
            "application/vnd.google.colaboratory.intrinsic+json": {
              "type": "string"
            }
          },
          "metadata": {},
          "execution_count": 64
        }
      ]
    },
    {
      "cell_type": "code",
      "source": [
        "# index starts with 0\n",
        "text = \"python\"\n",
        "text[0]"
      ],
      "metadata": {
        "colab": {
          "base_uri": "https://localhost:8080/",
          "height": 35
        },
        "id": "93Q_nQuILh0l",
        "outputId": "7c3deb06-4523-4e84-85c2-ab2cd0b59143"
      },
      "execution_count": null,
      "outputs": [
        {
          "output_type": "execute_result",
          "data": {
            "text/plain": [
              "'p'"
            ],
            "application/vnd.google.colaboratory.intrinsic+json": {
              "type": "string"
            }
          },
          "metadata": {},
          "execution_count": 74
        }
      ]
    },
    {
      "cell_type": "code",
      "source": [
        "#slice text\n",
        "text[0:1]"
      ],
      "metadata": {
        "colab": {
          "base_uri": "https://localhost:8080/",
          "height": 35
        },
        "id": "SB_NSGO9MWe7",
        "outputId": "a59f39dc-350f-406c-a179-4be79cd72df9"
      },
      "execution_count": null,
      "outputs": [
        {
          "output_type": "execute_result",
          "data": {
            "text/plain": [
              "'p'"
            ],
            "application/vnd.google.colaboratory.intrinsic+json": {
              "type": "string"
            }
          },
          "metadata": {},
          "execution_count": 78
        }
      ]
    },
    {
      "cell_type": "code",
      "source": [
        "text[2:]"
      ],
      "metadata": {
        "colab": {
          "base_uri": "https://localhost:8080/",
          "height": 35
        },
        "id": "-2bgeTmaMsnl",
        "outputId": "3ea4de15-3af8-4626-a2b9-1ea12445da46"
      },
      "execution_count": null,
      "outputs": [
        {
          "output_type": "execute_result",
          "data": {
            "text/plain": [
              "'thon'"
            ],
            "application/vnd.google.colaboratory.intrinsic+json": {
              "type": "string"
            }
          },
          "metadata": {},
          "execution_count": 80
        }
      ]
    },
    {
      "cell_type": "code",
      "source": [
        "#text + text\n",
        "\"Python\" + \" is the best\" + \" and easy,\" + \" I love it!\""
      ],
      "metadata": {
        "colab": {
          "base_uri": "https://localhost:8080/",
          "height": 35
        },
        "id": "GDyHTqRjMwkG",
        "outputId": "619f557f-a8a5-49ef-a131-504f2ec39f54"
      },
      "execution_count": null,
      "outputs": [
        {
          "output_type": "execute_result",
          "data": {
            "text/plain": [
              "'Python is the best and easy, I love it!'"
            ],
            "application/vnd.google.colaboratory.intrinsic+json": {
              "type": "string"
            }
          },
          "metadata": {},
          "execution_count": 82
        }
      ]
    },
    {
      "cell_type": "code",
      "source": [
        "\"Hello World \" * 4"
      ],
      "metadata": {
        "colab": {
          "base_uri": "https://localhost:8080/",
          "height": 35
        },
        "id": "wJOj4OfPNEh0",
        "outputId": "559b8e6e-f521-4df1-f756-88babe2f8cd3"
      },
      "execution_count": null,
      "outputs": [
        {
          "output_type": "execute_result",
          "data": {
            "text/plain": [
              "'Hello World Hello World Hello World Hello World '"
            ],
            "application/vnd.google.colaboratory.intrinsic+json": {
              "type": "string"
            }
          },
          "metadata": {},
          "execution_count": 84
        }
      ]
    },
    {
      "cell_type": "code",
      "source": [
        "\"Python\" [2:4]"
      ],
      "metadata": {
        "colab": {
          "base_uri": "https://localhost:8080/",
          "height": 35
        },
        "id": "8OdY1LJgQeiM",
        "outputId": "61b9cd10-65f4-4119-b1fe-b29e2b826e38"
      },
      "execution_count": null,
      "outputs": [
        {
          "output_type": "execute_result",
          "data": {
            "text/plain": [
              "'th'"
            ],
            "application/vnd.google.colaboratory.intrinsic+json": {
              "type": "string"
            }
          },
          "metadata": {},
          "execution_count": 86
        }
      ]
    },
    {
      "cell_type": "code",
      "source": [
        "\"Python\"[::-1]"
      ],
      "metadata": {
        "colab": {
          "base_uri": "https://localhost:8080/",
          "height": 35
        },
        "id": "Wyv97tEEQkXQ",
        "outputId": "6b55f81b-75db-4dc1-f034-d23c9d7e029a"
      },
      "execution_count": null,
      "outputs": [
        {
          "output_type": "execute_result",
          "data": {
            "text/plain": [
              "'nohtyP'"
            ],
            "application/vnd.google.colaboratory.intrinsic+json": {
              "type": "string"
            }
          },
          "metadata": {},
          "execution_count": 88
        }
      ]
    },
    {
      "cell_type": "code",
      "source": [
        "\"I am learning Python today\"[0:15:2]"
      ],
      "metadata": {
        "colab": {
          "base_uri": "https://localhost:8080/",
          "height": 35
        },
        "id": "4DXdlgm2Qomk",
        "outputId": "11c8af65-3d31-4645-bc80-486acb5a2449"
      },
      "execution_count": null,
      "outputs": [
        {
          "output_type": "execute_result",
          "data": {
            "text/plain": [
              "'Ia erigP'"
            ],
            "application/vnd.google.colaboratory.intrinsic+json": {
              "type": "string"
            }
          },
          "metadata": {},
          "execution_count": 92
        }
      ]
    },
    {
      "cell_type": "code",
      "source": [
        "## String is immytable, no support item assigment\n",
        "text = \"python\"\n",
        "text[1:]\n",
        "print(\"C\" + text[1:])"
      ],
      "metadata": {
        "colab": {
          "base_uri": "https://localhost:8080/"
        },
        "id": "am6nXLK4Q3lY",
        "outputId": "565463ff-9457-4f9c-b343-df17d498a598"
      },
      "execution_count": null,
      "outputs": [
        {
          "output_type": "stream",
          "name": "stdout",
          "text": [
            "Cython\n"
          ]
        }
      ]
    },
    {
      "cell_type": "markdown",
      "source": [
        "## Data Structure\n",
        "1. List\n",
        "2. Tuple\n",
        "3. Dictionary\n",
        "4. Set"
      ],
      "metadata": {
        "id": "NFAX7AJPR8v_"
      }
    },
    {
      "cell_type": "code",
      "source": [
        "## list, ordered, mutable object\n",
        "shopping_list = [\"egg\", \"milk\", \"vitamin\", \"bread\"]"
      ],
      "metadata": {
        "id": "6uiomhhUSFA5"
      },
      "execution_count": null,
      "outputs": []
    },
    {
      "cell_type": "code",
      "source": [
        "len(shopping_list)"
      ],
      "metadata": {
        "colab": {
          "base_uri": "https://localhost:8080/"
        },
        "id": "BnYsj6lDSTl9",
        "outputId": "d65847e9-9254-40a8-a677-1c9efd4e8eef"
      },
      "execution_count": null,
      "outputs": [
        {
          "output_type": "execute_result",
          "data": {
            "text/plain": [
              "4"
            ]
          },
          "metadata": {},
          "execution_count": 205
        }
      ]
    },
    {
      "cell_type": "code",
      "source": [
        "shopping_list[-3]"
      ],
      "metadata": {
        "colab": {
          "base_uri": "https://localhost:8080/",
          "height": 35
        },
        "id": "WxapDpLJSYwW",
        "outputId": "f83f3891-d3fd-4c4d-e67b-86cf7e6435c9"
      },
      "execution_count": null,
      "outputs": [
        {
          "output_type": "execute_result",
          "data": {
            "text/plain": [
              "'milk'"
            ],
            "application/vnd.google.colaboratory.intrinsic+json": {
              "type": "string"
            }
          },
          "metadata": {},
          "execution_count": 206
        }
      ]
    },
    {
      "cell_type": "code",
      "source": [
        "shopping_list[0] = \"egg egg\""
      ],
      "metadata": {
        "id": "OJ7O8ZgQSssZ"
      },
      "execution_count": null,
      "outputs": []
    },
    {
      "cell_type": "code",
      "source": [
        "shopping_list[2] = \"lactasoy\""
      ],
      "metadata": {
        "id": "G8pbFc6wSy0x"
      },
      "execution_count": null,
      "outputs": []
    },
    {
      "cell_type": "code",
      "source": [
        "shopping_list"
      ],
      "metadata": {
        "colab": {
          "base_uri": "https://localhost:8080/"
        },
        "id": "1boB3wnqS_8G",
        "outputId": "46de70b2-f8de-41cf-e45c-7219cf89dba4"
      },
      "execution_count": null,
      "outputs": [
        {
          "output_type": "execute_result",
          "data": {
            "text/plain": [
              "['egg egg', 'milk', 'lactasoy', 'bread']"
            ]
          },
          "metadata": {},
          "execution_count": 209
        }
      ]
    },
    {
      "cell_type": "code",
      "source": [
        "# list method\n",
        "shopping_list.append(\"butter\")\n",
        "len(shopping_list)"
      ],
      "metadata": {
        "colab": {
          "base_uri": "https://localhost:8080/"
        },
        "id": "BWyyxZwjTHmj",
        "outputId": "f0951a53-ba90-467a-d1e9-a6a5226fbed4"
      },
      "execution_count": null,
      "outputs": [
        {
          "output_type": "execute_result",
          "data": {
            "text/plain": [
              "5"
            ]
          },
          "metadata": {},
          "execution_count": 210
        }
      ]
    },
    {
      "cell_type": "code",
      "source": [
        "shopping_list.pop()\n",
        "shopping_list"
      ],
      "metadata": {
        "colab": {
          "base_uri": "https://localhost:8080/"
        },
        "id": "qnJdy7JvTmSb",
        "outputId": "fb50bbef-7d90-47f9-cf00-af703dfea4c5"
      },
      "execution_count": null,
      "outputs": [
        {
          "output_type": "execute_result",
          "data": {
            "text/plain": [
              "['egg egg', 'milk', 'lactasoy', 'bread']"
            ]
          },
          "metadata": {},
          "execution_count": 211
        }
      ]
    },
    {
      "cell_type": "code",
      "source": [
        "shopping_list.remove(\"milk\")"
      ],
      "metadata": {
        "id": "izTYKmGAUE4h"
      },
      "execution_count": null,
      "outputs": []
    },
    {
      "cell_type": "code",
      "source": [
        "# create a new list\n",
        "shopping = [\"milk\", \"bread\", \"egg\", \"creamchesses\"]"
      ],
      "metadata": {
        "id": "2OrlmGruUQpL"
      },
      "execution_count": null,
      "outputs": []
    },
    {
      "cell_type": "code",
      "source": [
        "shopping.sort(reverse = False)\n",
        "print(shopping) # sort string"
      ],
      "metadata": {
        "colab": {
          "base_uri": "https://localhost:8080/"
        },
        "id": "RmLH6D5YVkT5",
        "outputId": "350ade37-aee9-4d8a-82bc-5e1328be76e8"
      },
      "execution_count": null,
      "outputs": [
        {
          "output_type": "stream",
          "name": "stdout",
          "text": [
            "['bread', 'creamchesses', 'egg', 'milk']\n"
          ]
        }
      ]
    },
    {
      "cell_type": "code",
      "source": [
        "shopping.append(\"straberry\")\n",
        "shopping"
      ],
      "metadata": {
        "colab": {
          "base_uri": "https://localhost:8080/"
        },
        "id": "XObP9myGWEfx",
        "outputId": "eaf3ad90-3529-46d8-87b4-d1c8ac7d3cd2"
      },
      "execution_count": null,
      "outputs": [
        {
          "output_type": "execute_result",
          "data": {
            "text/plain": [
              "['bread', 'creamchesses', 'egg', 'milk', 'straberry']"
            ]
          },
          "metadata": {},
          "execution_count": 215
        }
      ]
    },
    {
      "cell_type": "code",
      "source": [
        "shopping.insert(1, \"orange\") #inplace\n",
        "print(shopping)"
      ],
      "metadata": {
        "colab": {
          "base_uri": "https://localhost:8080/"
        },
        "id": "oj2Me4JWWLD0",
        "outputId": "e1b51fcc-4532-43e6-cb47-e84ab8b74332"
      },
      "execution_count": null,
      "outputs": [
        {
          "output_type": "stream",
          "name": "stdout",
          "text": [
            "['bread', 'orange', 'creamchesses', 'egg', 'milk', 'straberry']\n"
          ]
        }
      ]
    },
    {
      "cell_type": "code",
      "source": [
        "[\"orange\", \"orange\", \"orange\", \"egg\"].count(\"orange\")"
      ],
      "metadata": {
        "colab": {
          "base_uri": "https://localhost:8080/"
        },
        "id": "RP29FaIYXIpk",
        "outputId": "a0a97649-cc97-4e65-cb26-0f4fccbd4dca"
      },
      "execution_count": null,
      "outputs": [
        {
          "output_type": "execute_result",
          "data": {
            "text/plain": [
              "3"
            ]
          },
          "metadata": {},
          "execution_count": 217
        }
      ]
    },
    {
      "cell_type": "code",
      "source": [
        "#homework: summarise common list method, string method in notion (#inplace)"
      ],
      "metadata": {
        "id": "xtAK1IdJYSup"
      },
      "execution_count": null,
      "outputs": []
    },
    {
      "cell_type": "markdown",
      "source": [
        "### Working with List"
      ],
      "metadata": {
        "id": "LyJps6JaZWHT"
      }
    },
    {
      "cell_type": "code",
      "source": [
        "## list + list\n",
        "[\"item1\", \"item2\"] + [\"item3\", \" item4\"]"
      ],
      "metadata": {
        "colab": {
          "base_uri": "https://localhost:8080/"
        },
        "id": "uRn-O2_HZcmj",
        "outputId": "e3594ac9-d23d-428e-93c4-3c6085841ac3"
      },
      "execution_count": null,
      "outputs": [
        {
          "output_type": "execute_result",
          "data": {
            "text/plain": [
              "['item1', 'item2', 'item3', ' item4']"
            ]
          },
          "metadata": {},
          "execution_count": 35
        }
      ]
    },
    {
      "cell_type": "code",
      "source": [
        "## loop through shopping list\n",
        "for item in shopping:\n",
        "    print((\"I have to buy \" + item).upper())\n",
        "    print(\"-\" * 20)"
      ],
      "metadata": {
        "colab": {
          "base_uri": "https://localhost:8080/"
        },
        "id": "Jbd-IXpLZeId",
        "outputId": "5b2272a7-d1a4-48f3-fdc7-3c63490bfa65"
      },
      "execution_count": null,
      "outputs": [
        {
          "output_type": "stream",
          "name": "stdout",
          "text": [
            "I HAVE TO BUY MILK\n",
            "--------------------\n",
            "I HAVE TO BUY BREAD\n",
            "--------------------\n",
            "I HAVE TO BUY EGG\n",
            "--------------------\n",
            "I HAVE TO BUY CREAMCHESSES\n",
            "--------------------\n"
          ]
        }
      ]
    },
    {
      "cell_type": "code",
      "source": [
        "for item in shopping:\n",
        "    if len(item) >= 4:\n",
        "        continue\n",
        "    else:\n",
        "        print(\"I need to buy \" + item)"
      ],
      "metadata": {
        "colab": {
          "base_uri": "https://localhost:8080/"
        },
        "id": "ji5sfmD6aRFF",
        "outputId": "71c458dd-06af-4320-85be-794f36c1b869"
      },
      "execution_count": null,
      "outputs": [
        {
          "output_type": "stream",
          "name": "stdout",
          "text": [
            "I need to buy egg\n"
          ]
        }
      ]
    },
    {
      "cell_type": "code",
      "source": [
        "## average revenue per user (ARPU)\n",
        "spending = [500, 1200, 800, 300, 900]\n",
        "for spend in spending:\n",
        "    if spend >= 800:\n",
        "        print(\"high spender\")\n",
        "    else:\n",
        "        print(\"low spender\")"
      ],
      "metadata": {
        "colab": {
          "base_uri": "https://localhost:8080/"
        },
        "id": "TNAgX2eFaWex",
        "outputId": "d2482667-abc8-49c9-d42d-a4c800c4e094"
      },
      "execution_count": null,
      "outputs": [
        {
          "output_type": "stream",
          "name": "stdout",
          "text": [
            "low spender\n",
            "high spender\n",
            "high spender\n",
            "low spender\n",
            "high spender\n"
          ]
        }
      ]
    },
    {
      "cell_type": "code",
      "source": [
        "# list comprehension in python\n",
        "scores = [80, 90, 75, 60, 59, 82]\n",
        "for score in scores:\n",
        "    if score > 80:\n",
        "        print(score,\"passed\")\n",
        "    else:\n",
        "        print(score, \"failed\")"
      ],
      "metadata": {
        "id": "VbGPH-j6e6II"
      },
      "execution_count": null,
      "outputs": []
    },
    {
      "cell_type": "code",
      "source": [
        "# example\n",
        "scores = [80, 90, 75, 60, 59, 82]\n",
        "\n",
        "new_scores = [score+5 for score in scores]\n",
        "\n",
        "print(grades)"
      ],
      "metadata": {
        "id": "-98Q-ixkiZeW"
      },
      "execution_count": null,
      "outputs": []
    },
    {
      "cell_type": "code",
      "source": [
        "grades = [\"Pass\" if score >= 80\n",
        "          else \"F\" for score in scores]\n",
        "print(grades)"
      ],
      "metadata": {
        "id": "7We6erGCixPj"
      },
      "execution_count": null,
      "outputs": []
    },
    {
      "cell_type": "markdown",
      "source": [
        "### tuple, ordered, immutable"
      ],
      "metadata": {
        "id": "vKvKBeKQkgRp"
      }
    },
    {
      "cell_type": "code",
      "source": [
        "### tuple, ordered, immutable\n",
        "toy, jane, ann = 36, 29, 32\n",
        "print(toy, jane, ann)"
      ],
      "metadata": {
        "colab": {
          "base_uri": "https://localhost:8080/"
        },
        "id": "mNURhYhwko46",
        "outputId": "7313f371-2b63-4141-ee41-cbb523627e8f"
      },
      "execution_count": null,
      "outputs": [
        {
          "output_type": "stream",
          "name": "stdout",
          "text": [
            "36 29 32\n"
          ]
        }
      ]
    },
    {
      "cell_type": "code",
      "source": [
        "names = (\"pp\", \"jane\", \"dome\")\n",
        "names.index(\"jane\")"
      ],
      "metadata": {
        "colab": {
          "base_uri": "https://localhost:8080/"
        },
        "id": "A73LA2Uukyvy",
        "outputId": "5cb0f606-47eb-4c8d-c0f0-ca671add6e08"
      },
      "execution_count": null,
      "outputs": [
        {
          "output_type": "execute_result",
          "data": {
            "text/plain": [
              "1"
            ]
          },
          "metadata": {},
          "execution_count": 42
        }
      ]
    },
    {
      "cell_type": "code",
      "source": [
        "for name in names:\n",
        "    print(f\"hello! {name.capitalize()}\")"
      ],
      "metadata": {
        "colab": {
          "base_uri": "https://localhost:8080/"
        },
        "id": "yVetlk4DlZ5N",
        "outputId": "29326cc9-6049-45eb-b5ee-623ee8939586"
      },
      "execution_count": null,
      "outputs": [
        {
          "output_type": "stream",
          "name": "stdout",
          "text": [
            "hello! Pp\n",
            "hello! Jane\n",
            "hello! Dome\n"
          ]
        }
      ]
    },
    {
      "cell_type": "code",
      "source": [
        "## recap list\n",
        "complex_list = [\n",
        "    25, \"The Dark Knight\",\n",
        "    [1,2,3,4,5],\n",
        "    (\"hello\",\"sawasdee\",\"sweet pea\")\n",
        "]"
      ],
      "metadata": {
        "id": "6j9VaSOol0gH"
      },
      "execution_count": null,
      "outputs": []
    },
    {
      "cell_type": "code",
      "source": [
        "complex_list[3][1]"
      ],
      "metadata": {
        "colab": {
          "base_uri": "https://localhost:8080/",
          "height": 35
        },
        "id": "ajJ_RniLmJ_L",
        "outputId": "fe3b5ab5-4bf4-411b-b368-263c7a90fce5"
      },
      "execution_count": null,
      "outputs": [
        {
          "output_type": "execute_result",
          "data": {
            "text/plain": [
              "'sawasdee'"
            ],
            "application/vnd.google.colaboratory.intrinsic+json": {
              "type": "string"
            }
          },
          "metadata": {},
          "execution_count": 252
        }
      ]
    },
    {
      "cell_type": "markdown",
      "source": [
        "### dictionary\n",
        "    key-value pair (similar to json)"
      ],
      "metadata": {
        "id": "LJDwhp4ulyEe"
      }
    },
    {
      "cell_type": "code",
      "source": [
        "# key concept is immutable\n",
        "movie = {\n",
        "    \"title\": \"The Dark Knight\",\n",
        "    \"release_year\": 2008,\n",
        "    \"genre\": [\"Action\", \"Drama\"],\n",
        "    \"rating\": 9.0,\n",
        "    \"isPrint\": True\n",
        "}\n",
        "\n",
        "movie"
      ],
      "metadata": {
        "colab": {
          "base_uri": "https://localhost:8080/"
        },
        "id": "e6_gp4fZm2G-",
        "outputId": "0545245d-e17a-4626-f6fc-992d3e2a7f47"
      },
      "execution_count": null,
      "outputs": [
        {
          "output_type": "execute_result",
          "data": {
            "text/plain": [
              "{'title': 'The Dark Knight',\n",
              " 'release_year': 2008,\n",
              " 'genre': ['Action', 'Drama'],\n",
              " 'rating': 9.0,\n",
              " 'isPrint': True}"
            ]
          },
          "metadata": {},
          "execution_count": 10
        }
      ]
    },
    {
      "cell_type": "code",
      "source": [
        "customer_01 ={\n",
        "    \"name\": \"john wick\",\n",
        "    \"age\": 50,\n",
        "    \"fav_movies\":[\"dead pool\", \"inside out\", \"lion king\"],\n",
        "    \"gpa\":3.41\n",
        "}\n",
        "\n",
        "customer_01"
      ],
      "metadata": {
        "colab": {
          "base_uri": "https://localhost:8080/"
        },
        "id": "Wvn6FX9Vn58a",
        "outputId": "8ad5a4e7-f7a6-4862-af1b-d9f5f547472f"
      },
      "execution_count": null,
      "outputs": [
        {
          "output_type": "execute_result",
          "data": {
            "text/plain": [
              "{'name': 'john wick',\n",
              " 'age': 50,\n",
              " 'fav_movies': ['dead pool', 'inside out', 'lion king'],\n",
              " 'gpa': 3.41}"
            ]
          },
          "metadata": {},
          "execution_count": 16
        }
      ]
    },
    {
      "cell_type": "code",
      "source": [
        "## dictionary is unordered, mutable\n",
        "customer_01[\"name\"].upper()"
      ],
      "metadata": {
        "colab": {
          "base_uri": "https://localhost:8080/",
          "height": 35
        },
        "id": "aK915sOBpdlY",
        "outputId": "8f205376-9e4a-4868-9f81-27c6bd7bb627"
      },
      "execution_count": null,
      "outputs": [
        {
          "output_type": "execute_result",
          "data": {
            "text/plain": [
              "'JOHN WICK'"
            ],
            "application/vnd.google.colaboratory.intrinsic+json": {
              "type": "string"
            }
          },
          "metadata": {},
          "execution_count": 11
        }
      ]
    },
    {
      "cell_type": "code",
      "source": [
        "customer_01[\"fav_movies\"][0::2]"
      ],
      "metadata": {
        "colab": {
          "base_uri": "https://localhost:8080/"
        },
        "id": "gzppDh8Up3OS",
        "outputId": "0001431f-776b-4092-c071-12b2d87e155a"
      },
      "execution_count": null,
      "outputs": [
        {
          "output_type": "execute_result",
          "data": {
            "text/plain": [
              "['dead pool', 'lion king']"
            ]
          },
          "metadata": {},
          "execution_count": 12
        }
      ]
    },
    {
      "cell_type": "code",
      "source": [
        "# dictionary method\n",
        "list(customer_01.keys())\n",
        "tuple(customer_01.values())"
      ],
      "metadata": {
        "colab": {
          "base_uri": "https://localhost:8080/"
        },
        "id": "fgJ6i4NIqAnI",
        "outputId": "43d81d15-9298-418f-b31c-e5cebe961cfb"
      },
      "execution_count": null,
      "outputs": [
        {
          "output_type": "execute_result",
          "data": {
            "text/plain": [
              "('john wick', 50, ['dead pool', 'inside out', 'lion king'], 3.41)"
            ]
          },
          "metadata": {},
          "execution_count": 16
        }
      ]
    },
    {
      "cell_type": "code",
      "source": [
        "for item in list(customer_01.items()):\n",
        "    print(item[0])"
      ],
      "metadata": {
        "id": "1Sq0Z3l8qbIx",
        "colab": {
          "base_uri": "https://localhost:8080/"
        },
        "outputId": "557fd22a-531d-47b0-f35e-caa8587f32c1"
      },
      "execution_count": null,
      "outputs": [
        {
          "output_type": "stream",
          "name": "stdout",
          "text": [
            "name\n",
            "age\n",
            "fav_movies\n",
            "gpa\n"
          ]
        }
      ]
    },
    {
      "cell_type": "code",
      "source": [
        "## create new key\n",
        "customer = customer_01\n",
        "customer[\"city\"] = \"Bangkok\"\n",
        "customer[\"nationality\"] = \"American\"\n",
        "\n",
        "customer"
      ],
      "metadata": {
        "colab": {
          "base_uri": "https://localhost:8080/"
        },
        "id": "L_hVLzObCLPX",
        "outputId": "3d888e3b-5419-4973-d56e-0dbe2a11cf65"
      },
      "execution_count": null,
      "outputs": [
        {
          "output_type": "execute_result",
          "data": {
            "text/plain": [
              "{'name': 'john wick',\n",
              " 'age': 50,\n",
              " 'fav_movies': ['dead pool', 'inside out', 'lion king'],\n",
              " 'gpa': 3.41,\n",
              " 'city': 'Bangkok',\n",
              " 'nationality': 'American'}"
            ]
          },
          "metadata": {},
          "execution_count": 49
        }
      ]
    },
    {
      "cell_type": "code",
      "source": [
        "## delete key\n",
        "del customer['gpa'] #inplace\n",
        "\n",
        "customer.pop(\"city\") #use method\n",
        "\n",
        "customer"
      ],
      "metadata": {
        "colab": {
          "base_uri": "https://localhost:8080/"
        },
        "id": "YY3rbak8C4Kx",
        "outputId": "5de7099e-4305-4a10-8f41-01666ba1928f"
      },
      "execution_count": null,
      "outputs": [
        {
          "output_type": "execute_result",
          "data": {
            "text/plain": [
              "{'name': 'john wick',\n",
              " 'age': 50,\n",
              " 'fav_movies': ['dead pool', 'inside out', 'lion king'],\n",
              " 'nationality': 'American'}"
            ]
          },
          "metadata": {},
          "execution_count": 50
        }
      ]
    },
    {
      "cell_type": "code",
      "source": [
        "# update value\n",
        "customer[\"name\"] = \"Davis Beckham\"\n",
        "customer"
      ],
      "metadata": {
        "colab": {
          "base_uri": "https://localhost:8080/"
        },
        "id": "kvvYvSJODMle",
        "outputId": "ae32125b-1a24-4e27-88cd-a3430fa56c36"
      },
      "execution_count": null,
      "outputs": [
        {
          "output_type": "execute_result",
          "data": {
            "text/plain": [
              "{'name': 'Davis Beckham',\n",
              " 'age': 50,\n",
              " 'fav_movies': ['dead pool', 'inside out', 'lion king'],\n",
              " 'nationality': 'American'}"
            ]
          },
          "metadata": {},
          "execution_count": 51
        }
      ]
    },
    {
      "cell_type": "code",
      "source": [
        "## the last data structure: set of values\n",
        "# set is uesd to find distinct/ unique values\n",
        "set([1,2,3,4,5,5,5,5,5])"
      ],
      "metadata": {
        "id": "i48klwQKDsWz",
        "colab": {
          "base_uri": "https://localhost:8080/"
        },
        "outputId": "905ad480-06b3-46dc-9b95-f026fa481c75"
      },
      "execution_count": null,
      "outputs": [
        {
          "output_type": "execute_result",
          "data": {
            "text/plain": [
              "{1, 2, 3, 4, 5}"
            ]
          },
          "metadata": {},
          "execution_count": 4
        }
      ]
    },
    {
      "cell_type": "code",
      "source": [
        "set([\"orange\",\"banana\",\"orange\"])"
      ],
      "metadata": {
        "colab": {
          "base_uri": "https://localhost:8080/"
        },
        "id": "PELrUfrqQITG",
        "outputId": "ec949469-4069-4ac9-f357-0c803e7376ee"
      },
      "execution_count": null,
      "outputs": [
        {
          "output_type": "execute_result",
          "data": {
            "text/plain": [
              "{'banana', 'orange'}"
            ]
          },
          "metadata": {},
          "execution_count": 6
        }
      ]
    },
    {
      "cell_type": "code",
      "source": [
        "## set operation\n",
        "## union and intersection\n",
        "mary = {\"orange\",\"apple\"}\n",
        "toy = {\"apple\", \"durian\"}\n",
        "\n",
        "mary.union(toy)"
      ],
      "metadata": {
        "colab": {
          "base_uri": "https://localhost:8080/"
        },
        "id": "U0AdNjUhQlM3",
        "outputId": "6e739540-c290-4f1d-fe9f-8ccab5787785"
      },
      "execution_count": null,
      "outputs": [
        {
          "output_type": "execute_result",
          "data": {
            "text/plain": [
              "{'apple', 'durian', 'orange'}"
            ]
          },
          "metadata": {},
          "execution_count": 10
        }
      ]
    },
    {
      "cell_type": "code",
      "source": [
        "mary | toy"
      ],
      "metadata": {
        "colab": {
          "base_uri": "https://localhost:8080/"
        },
        "id": "5XEpLeSYROSL",
        "outputId": "ad3cc07f-1e7f-4df4-a16a-9f8cc0f577b6"
      },
      "execution_count": null,
      "outputs": [
        {
          "output_type": "execute_result",
          "data": {
            "text/plain": [
              "{'apple', 'durian', 'orange'}"
            ]
          },
          "metadata": {},
          "execution_count": 11
        }
      ]
    },
    {
      "cell_type": "code",
      "source": [
        "mary & toy"
      ],
      "metadata": {
        "colab": {
          "base_uri": "https://localhost:8080/"
        },
        "id": "NWgREZd-RP7j",
        "outputId": "3ee822ec-d15e-407c-a279-e99dc4e0446f"
      },
      "execution_count": null,
      "outputs": [
        {
          "output_type": "execute_result",
          "data": {
            "text/plain": [
              "{'apple'}"
            ]
          },
          "metadata": {},
          "execution_count": 13
        }
      ]
    },
    {
      "cell_type": "code",
      "source": [
        "mary - toy"
      ],
      "metadata": {
        "colab": {
          "base_uri": "https://localhost:8080/"
        },
        "id": "98A0xgVCRXaC",
        "outputId": "48062e2b-5abe-45de-a8df-baf8c5d9c407"
      },
      "execution_count": null,
      "outputs": [
        {
          "output_type": "execute_result",
          "data": {
            "text/plain": [
              "{'orange'}"
            ]
          },
          "metadata": {},
          "execution_count": 18
        }
      ]
    },
    {
      "cell_type": "markdown",
      "source": [
        "## Recap Data Structures\n",
        "\n",
        "1. list\n",
        "2. tuple\n",
        "3. dictionary #key-value pair\n",
        "4. set"
      ],
      "metadata": {
        "id": "yG4XEtq7SF1m"
      }
    },
    {
      "cell_type": "markdown",
      "source": [
        "## Function\n",
        "\n",
        "user defined function"
      ],
      "metadata": {
        "id": "YFGTs40OSxCX"
      }
    },
    {
      "cell_type": "code",
      "source": [
        "## the most important thing why we write functions because they are reusable\n",
        "def hello():\n",
        "    print(\"hello world\")"
      ],
      "metadata": {
        "id": "x7nW7sxVSzTP"
      },
      "execution_count": null,
      "outputs": []
    },
    {
      "cell_type": "code",
      "source": [
        "hello()"
      ],
      "metadata": {
        "colab": {
          "base_uri": "https://localhost:8080/"
        },
        "id": "otwigWJsTNZE",
        "outputId": "07f14503-9a95-47ff-b7e4-4b567ea8952a"
      },
      "execution_count": null,
      "outputs": [
        {
          "output_type": "stream",
          "name": "stdout",
          "text": [
            "hello world\n"
          ]
        }
      ]
    },
    {
      "cell_type": "code",
      "source": [
        "def hello2(name):\n",
        "    print(\"hello \" + name)\n",
        "\n",
        "hello2(\"PP\")"
      ],
      "metadata": {
        "colab": {
          "base_uri": "https://localhost:8080/"
        },
        "id": "PK-qJeGuTpPN",
        "outputId": "25a58217-602d-4db5-cd14-d4cefd149c1b"
      },
      "execution_count": null,
      "outputs": [
        {
          "output_type": "stream",
          "name": "stdout",
          "text": [
            "hello PP\n"
          ]
        }
      ]
    },
    {
      "cell_type": "code",
      "source": [
        "## can we get input from a user?\n",
        "def greeting():\n",
        "    username = input(\"what's your name\")\n",
        "    result = f\"Hi {username}!\"\n",
        "    print(result)\n",
        "    action = input(\"what are you going to do today?\")\n",
        "    print(f\"You're going to {action}. Great!\")"
      ],
      "metadata": {
        "id": "-J0Q0hTsT8pY"
      },
      "execution_count": null,
      "outputs": []
    },
    {
      "cell_type": "code",
      "source": [
        "greeting()"
      ],
      "metadata": {
        "id": "o6HtuwYKUTAD"
      },
      "execution_count": null,
      "outputs": []
    },
    {
      "cell_type": "code",
      "source": [
        "user_age = int(input(\"How old are you: \"))\n",
        "print(user_age, typr(user_age))"
      ],
      "metadata": {
        "id": "qkzYLzOoVUyN"
      },
      "execution_count": null,
      "outputs": []
    },
    {
      "cell_type": "code",
      "source": [
        "## function can have more than one parameters\n",
        "def my_power(base=2, power=3):\n",
        "    return base ** power"
      ],
      "metadata": {
        "id": "UekctLvCV3PE"
      },
      "execution_count": null,
      "outputs": []
    },
    {
      "cell_type": "code",
      "source": [
        "result = my_power(3,3)\n",
        "print(result)"
      ],
      "metadata": {
        "colab": {
          "base_uri": "https://localhost:8080/"
        },
        "id": "C5tzJ5IrWn1X",
        "outputId": "4aa6f678-ae0d-40ac-d3c1-8e695c8ea235"
      },
      "execution_count": null,
      "outputs": [
        {
          "output_type": "stream",
          "name": "stdout",
          "text": [
            "27\n"
          ]
        }
      ]
    },
    {
      "cell_type": "code",
      "source": [
        "my_power(power=2, base=9) ## 9**2"
      ],
      "metadata": {
        "colab": {
          "base_uri": "https://localhost:8080/"
        },
        "id": "vIU6bEiSWu2u",
        "outputId": "a48f1e85-6fb3-4efa-82a2-8bc7712cfedc"
      },
      "execution_count": null,
      "outputs": [
        {
          "output_type": "execute_result",
          "data": {
            "text/plain": [
              "81"
            ]
          },
          "metadata": {},
          "execution_count": 35
        }
      ]
    },
    {
      "cell_type": "markdown",
      "source": [
        "## Control Flow\n",
        "1. if\n",
        "2. for\n",
        "3. while"
      ],
      "metadata": {
        "id": "n_gVOYHGXKg8"
      }
    },
    {
      "cell_type": "code",
      "source": [
        "# ## lambda\n",
        "# def double(num):\n",
        "#     return num*2\n",
        "## lamnbda\n",
        "double = lambda num: num*2\n",
        "\n",
        "double(20)"
      ],
      "metadata": {
        "colab": {
          "base_uri": "https://localhost:8080/"
        },
        "id": "eukdo4ezXQDc",
        "outputId": "d6233890-9cde-40ad-836d-5d0adf994fd5"
      },
      "execution_count": null,
      "outputs": [
        {
          "output_type": "execute_result",
          "data": {
            "text/plain": [
              "40"
            ]
          },
          "metadata": {},
          "execution_count": 39
        }
      ]
    },
    {
      "cell_type": "code",
      "source": [
        "hello = lambda name: \"hello \" + name\n",
        "\n",
        "hello(\"PP\")"
      ],
      "metadata": {
        "colab": {
          "base_uri": "https://localhost:8080/",
          "height": 35
        },
        "id": "A6gjHckCZjl4",
        "outputId": "5d9417d1-cd29-477f-8322-15bf07a5ebed"
      },
      "execution_count": null,
      "outputs": [
        {
          "output_type": "execute_result",
          "data": {
            "text/plain": [
              "'hello PP'"
            ],
            "application/vnd.google.colaboratory.intrinsic+json": {
              "type": "string"
            }
          },
          "metadata": {},
          "execution_count": 41
        }
      ]
    },
    {
      "cell_type": "code",
      "source": [
        "def grading(score):\n",
        "    \"\"\"\n",
        "    input: score is a numeric number\n",
        "    output: grade passed or failed\n",
        "    \"\"\"\n",
        "    if score >=80:\n",
        "        return \"Passed\"\n",
        "    else:\n",
        "        return \"Failed\"\n",
        "\n",
        "\n",
        "grading(79)"
      ],
      "metadata": {
        "colab": {
          "base_uri": "https://localhost:8080/",
          "height": 35
        },
        "id": "TTShqf0oZm0d",
        "outputId": "25edc9bf-de04-4d02-d040-63c6589bb9a0"
      },
      "execution_count": null,
      "outputs": [
        {
          "output_type": "execute_result",
          "data": {
            "text/plain": [
              "'Failed'"
            ],
            "application/vnd.google.colaboratory.intrinsic+json": {
              "type": "string"
            }
          },
          "metadata": {},
          "execution_count": 44
        }
      ]
    },
    {
      "cell_type": "code",
      "source": [
        "## multiple if else\n",
        "# running Python code from high to low\n",
        "\n",
        "def full_grading(score):\n",
        "    if score >= 80:\n",
        "        return \"A\"\n",
        "    elif score >= 70:\n",
        "        return \"B\"\n",
        "    elif score >= 60:\n",
        "        return \"C\"\n",
        "    elif score >= 50:\n",
        "        return \"Retry the exam again\"\n",
        "\n",
        "full_grading(59)"
      ],
      "metadata": {
        "colab": {
          "base_uri": "https://localhost:8080/",
          "height": 35
        },
        "id": "XlLxZOTbaTRy",
        "outputId": "fc259324-d19d-4ba8-bba1-e0ef0466d9fa"
      },
      "execution_count": null,
      "outputs": [
        {
          "output_type": "execute_result",
          "data": {
            "text/plain": [
              "'Retry the exam again'"
            ],
            "application/vnd.google.colaboratory.intrinsic+json": {
              "type": "string"
            }
          },
          "metadata": {},
          "execution_count": 46
        }
      ]
    },
    {
      "cell_type": "code",
      "source": [
        "# if multiple conditions\n",
        "# morning weekday -> cereal\n",
        "# morning weekend -> hamburger\n",
        "# else -> fasting\n",
        "\n",
        "time = \"morning\"\n",
        "day = \"weekend\"\n",
        "\n",
        "if time == \"morning\" and day == \"weekday\":\n",
        "    print(\"I'm eating cereal\")\n",
        "elif time == \"morning\" and day == \"weekend\":\n",
        "    print(\"I'm eating hamburger\")\n",
        "else:\n",
        "    print(\"No eating, I'm fasting\")"
      ],
      "metadata": {
        "colab": {
          "base_uri": "https://localhost:8080/"
        },
        "id": "mdQIYnIvbi2O",
        "outputId": "ef770c99-f56d-41b8-e1f6-7d6ca5c6c176"
      },
      "execution_count": null,
      "outputs": [
        {
          "output_type": "stream",
          "name": "stdout",
          "text": [
            "I'm eating hamburger\n"
          ]
        }
      ]
    },
    {
      "cell_type": "code",
      "source": [
        "## recap for loop\n",
        "for item in [\"apple\", \"orange\", \"banana\", \"grape\"]:\n",
        "    if len(item) > 5:\n",
        "        print(item)"
      ],
      "metadata": {
        "colab": {
          "base_uri": "https://localhost:8080/"
        },
        "id": "eG4gZ82ycYfI",
        "outputId": "d956b1fe-dbfd-4c73-8818-88a05cf076fa"
      },
      "execution_count": null,
      "outputs": [
        {
          "output_type": "stream",
          "name": "stdout",
          "text": [
            "orange\n",
            "banana\n"
          ]
        }
      ]
    },
    {
      "cell_type": "code",
      "source": [
        "## while loop\n",
        "# while True do something\n",
        "count = 0\n",
        "while count < 5:\n",
        "    print(\"hello world\")\n",
        "    count += 1"
      ],
      "metadata": {
        "colab": {
          "base_uri": "https://localhost:8080/"
        },
        "id": "hG4SUj0ggkOp",
        "outputId": "dbe78e28-b84c-4940-f83b-d0a089648740"
      },
      "execution_count": null,
      "outputs": [
        {
          "output_type": "stream",
          "name": "stdout",
          "text": [
            "hello world\n",
            "hello world\n",
            "hello world\n",
            "hello world\n",
            "hello world\n"
          ]
        }
      ]
    },
    {
      "cell_type": "code",
      "source": [
        "## homework\n",
        "## 1. revire methods (list, string)\n",
        "## 2. create this function: pao ying chub"
      ],
      "metadata": {
        "id": "29J5WeNVg924"
      },
      "execution_count": null,
      "outputs": []
    },
    {
      "cell_type": "markdown",
      "source": [],
      "metadata": {
        "id": "5Zn8PXf6-x44"
      }
    },
    {
      "cell_type": "code",
      "source": [
        "x = 10\n",
        "y = 3.14\n",
        "z = \"Hello\"\n",
        "text = \"sweet pea\"\n",
        "my_string = \"***Hello, world!***\""
      ],
      "metadata": {
        "id": "NhPpNd99-xih"
      },
      "execution_count": null,
      "outputs": []
    },
    {
      "cell_type": "code",
      "source": [
        "text = \"sweet pea\"\n",
        "text.find(\"e\")"
      ],
      "metadata": {
        "colab": {
          "base_uri": "https://localhost:8080/"
        },
        "id": "mnMP0s62-2MU",
        "outputId": "556179d0-e109-46af-f51a-e4aae37e30f0"
      },
      "execution_count": null,
      "outputs": [
        {
          "output_type": "execute_result",
          "data": {
            "text/plain": [
              "2"
            ]
          },
          "metadata": {},
          "execution_count": 41
        }
      ]
    },
    {
      "cell_type": "code",
      "source": [
        "my_string.strip(\"*\")\n",
        "print(my_string.strip(\"*\"))"
      ],
      "metadata": {
        "colab": {
          "base_uri": "https://localhost:8080/"
        },
        "id": "vMv0BnOlHAz3",
        "outputId": "a88aaf9f-6e3f-4680-b963-40ef63e2c5bd"
      },
      "execution_count": null,
      "outputs": [
        {
          "output_type": "stream",
          "name": "stdout",
          "text": [
            "Hello, world!\n"
          ]
        }
      ]
    },
    {
      "cell_type": "code",
      "source": [
        "text = \"hello, world!\"\n",
        "text.capitalize()\n",
        "print(text) # not inplace"
      ],
      "metadata": {
        "colab": {
          "base_uri": "https://localhost:8080/"
        },
        "id": "_XptubfEHZ23",
        "outputId": "e2217411-1cd6-4d23-c2d5-4ce54d8639c8"
      },
      "execution_count": null,
      "outputs": [
        {
          "output_type": "stream",
          "name": "stdout",
          "text": [
            "hello, world!\n"
          ]
        }
      ]
    },
    {
      "cell_type": "code",
      "source": [
        "# Joining a list of integers\n",
        "numbers = [1, 2, 3, 4, 5]\n",
        "\", \".join(str(num) for num in numbers)\n",
        "print(joined_numbers)  # Output: \"1, 2, 3, 4, 5\""
      ],
      "metadata": {
        "colab": {
          "base_uri": "https://localhost:8080/"
        },
        "id": "ptb1e18D1Fz-",
        "outputId": "8453a85c-e87e-40c9-f44a-ac761be6d24a"
      },
      "execution_count": null,
      "outputs": [
        {
          "output_type": "stream",
          "name": "stdout",
          "text": [
            "1, 2, 3, 4, 5\n"
          ]
        }
      ]
    },
    {
      "cell_type": "code",
      "source": [],
      "metadata": {
        "id": "UyMKlQ-C1ep0"
      },
      "execution_count": null,
      "outputs": []
    }
  ]
}