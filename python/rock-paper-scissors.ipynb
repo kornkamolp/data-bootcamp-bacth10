#homwwork rock-paper-scissors 
import random

def play_game():
    user_score = 0
    bot_score = 0

    username = input("Tell me about your name? ")
    print(f"Hi {username}! Let's play Rock-Paper-Scissors")

    while True:
        try:
            rounds = int(input("How many times do you want to play? "))
            if rounds < 1:
                print("Please enter a number greater than 0!")
            else:
                print(f"You have {rounds} times to win!")
                break
        except ValueError:
            print("Invalid input. Please enter a number!")

    for i in range(1, rounds + 1):
        print(f"\nRound: {i}")

        while True:
            user_choice = input("Choose rock, paper, or scissors: ").lower()
            if user_choice in ["rock", "paper", "scissors"]:
                break
            else:
                print("Invalid choice. Please enter rock, paper, or scissors")

        bot_choice = random.choice(["rock", "paper", "scissors"])
        print(f"Bot chose: {bot_choice}")

        if user_choice == bot_choice:
            print("It's a tie!")
        elif (user_choice == "rock" and bot_choice == "scissors") or \
             (user_choice == "paper" and bot_choice == "rock") or \
             (user_choice == "scissors" and bot_choice == "paper"):
            print("You win this round!")
            user_score += 1
        else:
            print("Bot wins this round!")
            bot_score += 1

    print("\nGame Over!")
    print(f"Final Score: {username}: {user_score}, Bot: {bot_score}")

    if user_score > bot_score:
        print(f"Congratulations, {username}! You are the overall winner!")
    elif user_score < bot_score:
        print("The bot wins overall. Better luck next time!")
    else:
        print("It's an overall tie!")
